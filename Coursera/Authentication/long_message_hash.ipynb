{
 "cells": [
  {
   "cell_type": "code",
   "execution_count": 1,
   "metadata": {},
   "outputs": [],
   "source": [
    "from Crypto.Hash import SHA256"
   ]
  },
  {
   "cell_type": "code",
   "execution_count": 2,
   "metadata": {},
   "outputs": [],
   "source": [
    "BLOCK_SIZE = 1024;\n",
    "SHA_SIZE   = SHA256.digest_size;"
   ]
  },
  {
   "cell_type": "markdown",
   "metadata": {},
   "source": [
    "### reading a file"
   ]
  },
  {
   "cell_type": "code",
   "execution_count": 3,
   "metadata": {},
   "outputs": [],
   "source": [
    "def read_raw_file(path):\n",
    "    with open(path, \"rb\") as f:\n",
    "        source = f.read()\n",
    "    f.close()\n",
    "    return source"
   ]
  },
  {
   "cell_type": "markdown",
   "metadata": {},
   "source": [
    "### encoding and decoding a hashed message"
   ]
  },
  {
   "cell_type": "code",
   "execution_count": 4,
   "metadata": {},
   "outputs": [],
   "source": [
    "def encode_hash(m: bytes):\n",
    "    blocks  = []\n",
    "    nfull   = len(m) // BLOCK_SIZE\n",
    "    for i in range(nfull+1):\n",
    "        i1 = BLOCK_SIZE * i\n",
    "        i2 = min(BLOCK_SIZE * (i + 1), len(m))\n",
    "        if i1 == i2: break\n",
    "        blocks.append(m[i1:i2])\n",
    "    hash_pad = b''\n",
    "    for i in range(len(blocks)-1, -1, -1):\n",
    "        block = blocks[i] + hash_pad\n",
    "        sha = SHA256.new()\n",
    "        sha.update(block)\n",
    "        hash_pad = sha.digest()\n",
    "        assert(len(hash_pad) == SHA_SIZE)\n",
    "        blocks[i] = block\n",
    "    return hash_pad.hex(), blocks\n",
    "\n",
    "def decode_hash(h0, blocks):\n",
    "    hash_pad = h0\n",
    "    msg_blocks = []\n",
    "    for j in range(len(blocks)-1):\n",
    "        block = blocks[j]\n",
    "        sha = SHA256.new()\n",
    "        sha.update(block)\n",
    "        block_hash = sha.digest()\n",
    "        if len(block_hash) != len(hash_pad):\n",
    "            return False, b''\n",
    "        for i in range(len(hash_pad)):\n",
    "            if block_hash[i] != hash_pad[i]:\n",
    "                return False, b''\n",
    "        hash_pad = block[-SHA_SIZE:]\n",
    "        msg_blocks.append(block[0:-SHA_SIZE])\n",
    "    msg_blocks.append(blocks[-1])\n",
    "    m = b''.join(msg_blocks)\n",
    "    return True, m\n",
    "        "
   ]
  },
  {
   "cell_type": "markdown",
   "metadata": {},
   "source": [
    "### tests"
   ]
  },
  {
   "cell_type": "code",
   "execution_count": 5,
   "metadata": {},
   "outputs": [
    {
     "name": "stdout",
     "output_type": "stream",
     "text": [
      "True\n"
     ]
    }
   ],
   "source": [
    "source = bytes('iau?!:\".sdf/h,afu.837r3'*2000, 'ASCII')\n",
    "h0, blocks = encode_hash(source)\n",
    "ok, source1 = decode_hash(bytes.fromhex(h0), blocks)\n",
    "\n",
    "print(ok)\n",
    "assert(len(source) == len(source1))\n",
    "for i in range(len(source)):\n",
    "    assert(source[i] == source1[i])"
   ]
  },
  {
   "cell_type": "code",
   "execution_count": 6,
   "metadata": {},
   "outputs": [
    {
     "name": "stdout",
     "output_type": "stream",
     "text": [
      "03c08f4ee0b576fe319338139c045c89c3e8e9409633bea29442e21425006ea8\n",
      "True\n"
     ]
    }
   ],
   "source": [
    "source = read_raw_file('./6.2.birthday.mp4')\n",
    "h0, blocks = encode_hash(source)\n",
    "print(h0)\n",
    "# validate\n",
    "ok, source1 = decode_hash(bytes.fromhex(h0), blocks)\n",
    "print(ok)\n",
    "assert(len(source) == len(source1))\n",
    "for i in range(len(source)):\n",
    "    assert(source[i] == source1[i])"
   ]
  },
  {
   "cell_type": "code",
   "execution_count": 7,
   "metadata": {},
   "outputs": [
    {
     "name": "stdout",
     "output_type": "stream",
     "text": [
      "5b96aece304a1422224f9a41b228416028f9ba26b0d1058f400200f06a589949\n",
      "True\n"
     ]
    }
   ],
   "source": [
    "source = read_raw_file('./6.1.intro.mp4')\n",
    "h0, blocks = encode_hash(source)\n",
    "print(h0)\n",
    "# validate\n",
    "ok, source1 = decode_hash(bytes.fromhex(h0), blocks)\n",
    "print(ok)\n",
    "assert(len(source) == len(source1))\n",
    "for i in range(len(source)):\n",
    "    assert(source[i] == source1[i])"
   ]
  },
  {
   "cell_type": "code",
   "execution_count": null,
   "metadata": {},
   "outputs": [],
   "source": []
  }
 ],
 "metadata": {
  "kernelspec": {
   "display_name": "Python 3",
   "language": "python",
   "name": "python3"
  },
  "language_info": {
   "codemirror_mode": {
    "name": "ipython",
    "version": 3
   },
   "file_extension": ".py",
   "mimetype": "text/x-python",
   "name": "python",
   "nbconvert_exporter": "python",
   "pygments_lexer": "ipython3",
   "version": "3.8.5"
  }
 },
 "nbformat": 4,
 "nbformat_minor": 4
}
