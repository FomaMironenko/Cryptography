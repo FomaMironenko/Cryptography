{
 "cells": [
  {
   "cell_type": "code",
   "execution_count": 146,
   "metadata": {},
   "outputs": [],
   "source": [
    "from Crypto.Cipher import AES"
   ]
  },
  {
   "cell_type": "code",
   "execution_count": 194,
   "metadata": {},
   "outputs": [],
   "source": [
    "# AES is 128 bits width which is  128 / 8 = 16  ASCII symbols\n",
    "BLOCK_SIZE = AES.block_size;\n",
    "AES_MODE = AES.MODE_ECB;"
   ]
  },
  {
   "cell_type": "code",
   "execution_count": 195,
   "metadata": {},
   "outputs": [],
   "source": [
    "def xor(block1: list, block2: list) -> list:\n",
    "    assert(len(block1) == BLOCK_SIZE)\n",
    "    assert(len(block2) == BLOCK_SIZE)\n",
    "    return [block1[i] ^ block2[i] for i in range(BLOCK_SIZE)]"
   ]
  },
  {
   "cell_type": "markdown",
   "metadata": {},
   "source": [
    "### Convert between blocks of uint8 and cypher text hex strings"
   ]
  },
  {
   "cell_type": "code",
   "execution_count": 196,
   "metadata": {},
   "outputs": [],
   "source": [
    "def hex2block(CTblock: str) -> list:\n",
    "    assert(len(CTblock) == BLOCK_SIZE * 2)\n",
    "    block = []\n",
    "    for i in range(BLOCK_SIZE):\n",
    "        hx   = CTblock[2*i : 2*i+2]\n",
    "        block.append(int(hx, 16))\n",
    "    return block\n",
    "\n",
    "def block2hex(block: list) -> str:\n",
    "    assert(len(block) == BLOCK_SIZE)\n",
    "    CTblock = ''\n",
    "    for i in range(BLOCK_SIZE):\n",
    "        CTblock += format(block[i], '02x')\n",
    "    assert(len(CTblock) == BLOCK_SIZE * 2)\n",
    "    return CTblock\n",
    "\n",
    "\n",
    "def CT2blocks(cipher_text: str) -> list:\n",
    "    assert(len(cipher_text) % (2*BLOCK_SIZE) == 0)\n",
    "    n_blocks = len(cipher_text) // (2*BLOCK_SIZE)\n",
    "    blocks = []\n",
    "    for i in range(n_blocks):\n",
    "        i1 = 2*BLOCK_SIZE * i\n",
    "        i2 = 2*BLOCK_SIZE * (i+1)\n",
    "        CTblock = cipher_text[i1:i2]\n",
    "        blocks.append(hex2block(CTblock))\n",
    "    return blocks\n",
    "\n",
    "def blocks2CT(blocks: list) -> str:\n",
    "    n_blocks = len(blocks)\n",
    "    cipher_text = '';\n",
    "    for i in range(n_blocks):\n",
    "        cipher_text += block2hex(blocks[i])\n",
    "    assert(len(cipher_text) % (2*BLOCK_SIZE) == 0)\n",
    "    return cipher_text"
   ]
  },
  {
   "cell_type": "markdown",
   "metadata": {},
   "source": [
    "### Convert between blocks of uint8 and plain text strings"
   ]
  },
  {
   "cell_type": "code",
   "execution_count": 197,
   "metadata": {},
   "outputs": [],
   "source": [
    "def PT2blocks(plain_text: str) -> list:\n",
    "    # add a padding\n",
    "    pad_size = BLOCK_SIZE - (len(plain_text) % BLOCK_SIZE)\n",
    "    padding  = chr(pad_size)\n",
    "    plain_text += padding * pad_size;\n",
    "    assert(len(plain_text) % BLOCK_SIZE == 0)\n",
    "    n_blocks = len(plain_text) // BLOCK_SIZE\n",
    "    # divide plain text into blocks\n",
    "    # and encode them to charcodes\n",
    "    blocks = [];\n",
    "    for i in range(n_blocks):\n",
    "        i1 = BLOCK_SIZE * i\n",
    "        i2 = BLOCK_SIZE * (i+1)\n",
    "        block = plain_text[i1 : i2];\n",
    "        codes = [ord(char) for char in block]\n",
    "        blocks.append(codes)\n",
    "    return blocks\n",
    "\n",
    "def blocks2PT(blocks: list) -> str:\n",
    "    n_blocks = len(blocks)\n",
    "    assert(n_blocks >= 1)\n",
    "    plain_text = ''\n",
    "    for i in range(n_blocks - 1):\n",
    "        block = blocks[i]\n",
    "        plain_text += ''.join([chr(code) for code in block])\n",
    "    padded_block = blocks[-1]\n",
    "    pad_size = padded_block[-1]\n",
    "    plain_text += ''.join([chr(code) for code in padded_block[:BLOCK_SIZE - pad_size]])\n",
    "    return plain_text"
   ]
  },
  {
   "cell_type": "code",
   "execution_count": 244,
   "metadata": {},
   "outputs": [],
   "source": [
    "class BlockCode:\n",
    "    def __init__(self, PT_blocks, CT_blocks, algo):\n",
    "        self.PT_blocks = PT_blocks\n",
    "        self.CT_blocks = CT_blocks\n",
    "        assert(algo == 'CBC' or algo == 'CTR')\n",
    "        self.algo = algo\n",
    "        \n",
    "        \n",
    "    def fromCT(cipher_text, algo):\n",
    "        CT_blocks = CT2blocks(cipher_text)\n",
    "        return BlockCode([], CT_blocks, algo)\n",
    "        \n",
    "    def fromPT(plain_text, algo):\n",
    "        PT_blocks = PT2blocks(plain_text)\n",
    "        return BlockCode(PT_blocks, [], algo)\n",
    "    \n",
    "    \n",
    "    def __encryptCBC(self, iv, key):\n",
    "        assert(len(self.PT_blocks) != 0)\n",
    "        assert(isinstance(iv, str) and isinstance(key, str))\n",
    "        assert(len(key) == BLOCK_SIZE * 2)\n",
    "        key = bytes(hex2block(key))\n",
    "        iv  = hex2block(iv)\n",
    "        M = self.PT_blocks\n",
    "        n_blocks = len(M)\n",
    "        C = [iv]\n",
    "        aes = AES.new(key, AES_MODE)\n",
    "        for i in range(n_blocks):\n",
    "            tmp = bytes(xor(C[i], M[i]))\n",
    "            C.append(list(aes.encrypt(tmp)))\n",
    "        self.CT_blocks = C\n",
    "        return blocks2CT(C)\n",
    "        \n",
    "    def __decryptCBC(self, key):\n",
    "        assert(len(self.CT_blocks) != 0)\n",
    "        assert(isinstance(key, str))\n",
    "        assert(len(key) == BLOCK_SIZE * 2)\n",
    "        key = bytes(hex2block(key))\n",
    "        iv = block2hex(self.CT_blocks[0])\n",
    "        C  = self.CT_blocks\n",
    "        n_blocks = len(C) - 1\n",
    "        M = []\n",
    "        aes = AES.new(key, AES_MODE)\n",
    "        for i in range(n_blocks):\n",
    "            tmp = bytes(C[i+1])\n",
    "            tmp = list(aes.decrypt(tmp))\n",
    "            M.append(xor(tmp, C[i]))\n",
    "        self.PT_blocks = M\n",
    "        return blocks2PT(M)\n",
    "    \n",
    "    \n",
    "    def __encryptCTR(self, iv, key):\n",
    "        assert(len(self.PT_blocks) != 0)\n",
    "        assert(isinstance(iv, str) and isinstance(key, str))\n",
    "        assert(len(iv) == BLOCK_SIZE * 2 and len(key) == BLOCK_SIZE * 2)\n",
    "        key = bytes(hex2block(key))\n",
    "        iv  = int(iv, 16)\n",
    "        M = self.PT_blocks\n",
    "        n_blocks = len(M)\n",
    "        C = [hex2block(format(iv, '032x'))]\n",
    "        aes = AES.new(key, AES_MODE)\n",
    "        for i in range(n_blocks):\n",
    "            tmp = format(iv + i, '032x')\n",
    "            tmp = bytes(hex2block(tmp))\n",
    "            tmp = list(aes.encrypt(tmp))\n",
    "            C.append(xor(M[i], tmp));\n",
    "        self.CT_blocks = C\n",
    "        return blocks2CT(C)\n",
    "        \n",
    "    def __decryptCTR(self, key):\n",
    "        assert(len(self.CT_blocks) != 0)\n",
    "        assert(isinstance(key, str))\n",
    "        assert(len(key) == BLOCK_SIZE * 2)\n",
    "        key = bytes(hex2block(key))\n",
    "        iv = block2hex(self.CT_blocks[0])\n",
    "        iv = int(iv, 16)\n",
    "        C  = self.CT_blocks[1:]\n",
    "        n_blocks = len(C)\n",
    "        M = []\n",
    "        aes = AES.new(key, AES_MODE)\n",
    "        for i in range(n_blocks):\n",
    "            tmp = format(iv + i, '032x')\n",
    "            tmp = bytes(hex2block(tmp))\n",
    "            tmp = list(aes.encrypt(tmp))\n",
    "            M.append(xor(C[i], tmp));\n",
    "        padded_block = C[-1]\n",
    "        pad_size = -1\n",
    "        for i in range(BLOCK_SIZE):\n",
    "            if pad_size == -1 and padded_block[i] == 0:\n",
    "                pad_size = BLOCK_SIZE - i\n",
    "            if pad_size > 0:\n",
    "                M[-1][i] = pad_size\n",
    "        self.PT_blocks = M\n",
    "        return blocks2PT(M)\n",
    "        \n",
    "        \n",
    "    def encrypt(self, iv, key):\n",
    "        if self.algo == 'CBC':\n",
    "            return self.__encryptCBC(iv, key)\n",
    "        else:\n",
    "            return self.__encryptCTR(iv, key)\n",
    "        \n",
    "    def decrypt(self, key):\n",
    "        if self.algo == 'CBC':\n",
    "            return self.__decryptCBC(key)\n",
    "        else:\n",
    "            return self.__decryptCTR(key)"
   ]
  },
  {
   "cell_type": "code",
   "execution_count": 245,
   "metadata": {},
   "outputs": [
    {
     "name": "stdout",
     "output_type": "stream",
     "text": [
      "Basic CBC mode encryption needs padding.\n"
     ]
    }
   ],
   "source": [
    "obj1 = BlockCode.fromCT(\n",
    "    '4ca00ff4c898d61e1edbf1800618fb2828a226d160dad07883d04e008a7897ee2e4b7465d5290d0c0e6c6822236e1daafb94ffe0c5da05d9476be028ad7c1d81', \n",
    "    'CBC'\n",
    ")\n",
    "m = obj1.decrypt('140b41b22a29beb4061bda66b6747e14')\n",
    "print(m)"
   ]
  },
  {
   "cell_type": "code",
   "execution_count": 246,
   "metadata": {},
   "outputs": [
    {
     "name": "stdout",
     "output_type": "stream",
     "text": [
      "Our implementation uses rand. IV\n"
     ]
    }
   ],
   "source": [
    "obj1 = BlockCode.fromCT(\n",
    "    '5b68629feb8606f9a6667670b75b38a5b4832d0f26e1ab7da33249de7d4afc48e713ac646ace36e872ad5fb8a512428a6e21364b0c374df45503473c5242a253', \n",
    "    'CBC'\n",
    ")\n",
    "m = obj1.decrypt('140b41b22a29beb4061bda66b6747e14')\n",
    "print(m)"
   ]
  },
  {
   "cell_type": "code",
   "execution_count": 247,
   "metadata": {},
   "outputs": [
    {
     "name": "stdout",
     "output_type": "stream",
     "text": [
      "CTR mode lets you build a stream cipher from a block cipher.\n"
     ]
    }
   ],
   "source": [
    "msg = '69dda8455c7dd4254bf353b773304eec0ec7702330098ce7f7520d1cbbb20fc388d1b0adb5054dbd7370849dbf0b88d393f252e764f1f5f7ad97ef79d59ce29f5f51eeca32eabedd9afa9329'\n",
    "msg += '00'*4\n",
    "obj1 = BlockCode.fromCT(\n",
    "    msg, \n",
    "    'CTR'\n",
    ")\n",
    "m = obj1.decrypt('36f18357be4dbd77f050515c73fcf9f2')\n",
    "print(m)"
   ]
  },
  {
   "cell_type": "code",
   "execution_count": 248,
   "metadata": {},
   "outputs": [
    {
     "name": "stdout",
     "output_type": "stream",
     "text": [
      "Always avoid the two time pad!\n"
     ]
    }
   ],
   "source": [
    "msg = '770b80259ec33beb2561358a9f2dc617e46218c0a53cbeca695ae45faa8952aa0e311bde9d4e01726d3184c34451'\n",
    "msg += '00'*2\n",
    "obj1 = BlockCode.fromCT(\n",
    "    msg, \n",
    "    'CTR'\n",
    ")\n",
    "m = obj1.decrypt('36f18357be4dbd77f050515c73fcf9f2')\n",
    "print(m)"
   ]
  },
  {
   "cell_type": "code",
   "execution_count": 249,
   "metadata": {},
   "outputs": [
    {
     "name": "stdout",
     "output_type": "stream",
     "text": [
      "Hello, World! a98 *&230(*^E)...aofsdhiosoadiuoi asodghi df.  igdufgh eoru soijd oaiwy9498ty odfgo[asjdpoj ]\n"
     ]
    }
   ],
   "source": [
    "msg = 'Hello, World! a98 *&230(*^E)...aofsdhiosoadiuoi asodghi df.  igdufgh eoru soijd oaiwy9498ty odfgo[asjdpoj ]'\n",
    "key = '36f18357be4dbd77f050515c73fcf9f2'\n",
    "iv  = '140b41b22a29beb4061bda66b6747e14'\n",
    "\n",
    "cod = BlockCode.fromPT(msg, 'CBC')\n",
    "C = cod.encrypt(iv, key)\n",
    "dec = BlockCode.fromCT(C, 'CBC')\n",
    "print(dec.decrypt(key))"
   ]
  },
  {
   "cell_type": "code",
   "execution_count": 250,
   "metadata": {},
   "outputs": [
    {
     "name": "stdout",
     "output_type": "stream",
     "text": [
      "Hello, World! a98 *&230(*^E)...aofsdhiosoadiuoi asodghi df.  igdufgh eoru soijd oaiwy9498ty odfgo[asjdpoj ]\n"
     ]
    }
   ],
   "source": [
    "msg = 'Hello, World! a98 *&230(*^E)...aofsdhiosoadiuoi asodghi df.  igdufgh eoru soijd oaiwy9498ty odfgo[asjdpoj ]'\n",
    "key = '36f18357be4dbd77f050515c73fcf9f2'\n",
    "iv  = '140b41b22a29beb4061bda66b6747e14'\n",
    "\n",
    "cod = BlockCode.fromPT(msg, 'CTR')\n",
    "C = cod.encrypt(iv, key)\n",
    "dec = BlockCode.fromCT(C, 'CTR')\n",
    "print(dec.decrypt(key))"
   ]
  },
  {
   "cell_type": "code",
   "execution_count": null,
   "metadata": {},
   "outputs": [],
   "source": []
  }
 ],
 "metadata": {
  "kernelspec": {
   "display_name": "Python 3",
   "language": "python",
   "name": "python3"
  },
  "language_info": {
   "codemirror_mode": {
    "name": "ipython",
    "version": 3
   },
   "file_extension": ".py",
   "mimetype": "text/x-python",
   "name": "python",
   "nbconvert_exporter": "python",
   "pygments_lexer": "ipython3",
   "version": "3.8.5"
  }
 },
 "nbformat": 4,
 "nbformat_minor": 4
}
