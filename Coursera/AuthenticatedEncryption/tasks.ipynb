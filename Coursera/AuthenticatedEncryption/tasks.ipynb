{
 "cells": [
  {
   "cell_type": "code",
   "execution_count": 54,
   "metadata": {},
   "outputs": [],
   "source": [
    "from Crypto.Cipher import AES"
   ]
  },
  {
   "cell_type": "code",
   "execution_count": 55,
   "metadata": {},
   "outputs": [],
   "source": [
    "def xor(b1: bytes, b2: bytes) -> bytes:\n",
    "    assert(len(b1) == len(b2))\n",
    "    return bytes([b1[i] ^ b2[i] for i in range(len(b1))])"
   ]
  },
  {
   "cell_type": "markdown",
   "metadata": {},
   "source": [
    "### This way we can change a plain text byte"
   ]
  },
  {
   "cell_type": "code",
   "execution_count": 56,
   "metadata": {},
   "outputs": [
    {
     "name": "stdout",
     "output_type": "stream",
     "text": [
      "b'5'\n"
     ]
    }
   ],
   "source": [
    "b1 = b'1'\n",
    "hack = bytes([4])\n",
    "xored = xor(b1, hack)\n",
    "print(xored)"
   ]
  },
  {
   "cell_type": "code",
   "execution_count": 69,
   "metadata": {},
   "outputs": [
    {
     "name": "stdout",
     "output_type": "stream",
     "text": [
      "16\n"
     ]
    }
   ],
   "source": [
    "key = b'0123456789012345' # any key is ok\n",
    "iv1 = b'0123456789012345' # any iv  is ok\n",
    "cipher = AES.new(key, AES.MODE_CBC, iv1)\n",
    "\n",
    "msg = b'Pay Bob 100$' # msg length is 12 so need to pad 4 bytes\n",
    "msg = msg + bytes([4, 4, 4, 4])\n",
    "ct = cipher.encrypt(msg)"
   ]
  },
  {
   "cell_type": "markdown",
   "metadata": {},
   "source": [
    "### Want to achieve a plain text 'Pay Bob 100$'"
   ]
  },
  {
   "cell_type": "code",
   "execution_count": 91,
   "metadata": {},
   "outputs": [
    {
     "data": {
      "text/plain": [
       "'20814804c1767293bd9f1d9cab3bc3e7'"
      ]
     },
     "execution_count": 91,
     "metadata": {},
     "output_type": "execute_result"
    }
   ],
   "source": [
    "iv = bytes.fromhex('20814804c1767293b99f1d9cab3bc3e7')\n",
    "pad = bytes([4 if i == 8 else 0 for i in range(16)])\n",
    "iv1 = xor(iv, pad)\n",
    "iv1.hex()"
   ]
  },
  {
   "cell_type": "code",
   "execution_count": null,
   "metadata": {},
   "outputs": [],
   "source": []
  }
 ],
 "metadata": {
  "kernelspec": {
   "display_name": "Python 3",
   "language": "python",
   "name": "python3"
  },
  "language_info": {
   "codemirror_mode": {
    "name": "ipython",
    "version": 3
   },
   "file_extension": ".py",
   "mimetype": "text/x-python",
   "name": "python",
   "nbconvert_exporter": "python",
   "pygments_lexer": "ipython3",
   "version": "3.8.5"
  }
 },
 "nbformat": 4,
 "nbformat_minor": 4
}
