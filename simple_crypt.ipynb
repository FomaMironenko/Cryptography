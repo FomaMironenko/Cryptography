{
 "cells": [
  {
   "cell_type": "code",
   "execution_count": 1,
   "metadata": {},
   "outputs": [],
   "source": [
    "def offsetDecode(alf, mostFreq, text):\n",
    "    N = len(alf);\n",
    "    alf  = alf.lower();\n",
    "    text = text.lower();\n",
    "    freq = [text.count(c) for c in alf];\n",
    "    currMaxi = freq.index(max(freq));\n",
    "    realMaxi = alf.index(mostFreq);\n",
    "    offset = (currMaxi - realMaxi) % N;\n",
    "    index  = [alf.find(c) for c in text];\n",
    "    return \"\".join([alf[(index[i] + offset) % N] if index[i] != -1 else text[i] for i in range(len(text))]);"
   ]
  },
  {
   "cell_type": "code",
   "execution_count": 2,
   "metadata": {},
   "outputs": [
    {
     "name": "stdout",
     "output_type": "stream",
     "text": [
      "we sewed a smile on a horse's oss, and a year later it was elected\n"
     ]
    }
   ],
   "source": [
    "alf = \"\".join([chr(i) for i in range(97, 97+26)]);\n",
    "text = \"Jr frjrq n fzvyr ba n ubefr'f bff, naq n lrne yngre vg jnf ryrpgrq\";\n",
    "decode = offsetDecode(alf, 'e', text);\n",
    "print(decode);"
   ]
  },
  {
   "cell_type": "code",
   "execution_count": 18,
   "metadata": {},
   "outputs": [
    {
     "name": "stdout",
     "output_type": "stream",
     "text": [
      "iziqdqxgowknqomgeqarfqzftqrdqcgqzokyqftapzqqpexazsqdoubtqdfqjf\n"
     ]
    }
   ],
   "source": [
    "alf = \"\".join([chr(i) for i in range(97, 97+26)]);\n",
    "text = \"pgpxkxenvdruxvtnlxhymxgmaxykxjnxgvrfxmahwgxxwlehgzxkvbiaxkmxqm\";\n",
    "decode = offsetDecode(alf, 'e', text);\n",
    "print(decode);"
   ]
  },
  {
   "cell_type": "code",
   "execution_count": null,
   "metadata": {},
   "outputs": [],
   "source": []
  },
  {
   "cell_type": "code",
   "execution_count": null,
   "metadata": {},
   "outputs": [],
   "source": []
  }
 ],
 "metadata": {
  "kernelspec": {
   "display_name": "Python 3",
   "language": "python",
   "name": "python3"
  },
  "language_info": {
   "codemirror_mode": {
    "name": "ipython",
    "version": 3
   },
   "file_extension": ".py",
   "mimetype": "text/x-python",
   "name": "python",
   "nbconvert_exporter": "python",
   "pygments_lexer": "ipython3",
   "version": "3.8.5"
  }
 },
 "nbformat": 4,
 "nbformat_minor": 4
}
