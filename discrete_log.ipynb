{
 "cells": [
  {
   "cell_type": "code",
   "execution_count": 1,
   "metadata": {},
   "outputs": [],
   "source": [
    "from functools import reduce"
   ]
  },
  {
   "cell_type": "code",
   "execution_count": 2,
   "metadata": {},
   "outputs": [],
   "source": [
    "def bruteforce_inv(a, p):\n",
    "    for b in range(p):\n",
    "        if (a * b) % p == 1: return b\n",
    "    return None\n",
    "\n",
    "def discr_pow(a, n, p):\n",
    "    if n == 0: return 1\n",
    "    if n % 2 == 0:\n",
    "        half = discr_pow(a, n / 2, p) % p\n",
    "        return (half ** 2) % p;\n",
    "    return (a * discr_pow(a, n-1, p)) % p\n",
    "\n",
    "def discr_div(a, b, p):\n",
    "    binv = bruteforce_inv(b, p)\n",
    "    if binv == None: return None\n",
    "    return (a * binv) % p\n",
    "\n",
    "def bruteforce_discr_log(b, y, p):\n",
    "# log_{b}(y) (mod p) = n = (?)\n",
    "    pw = 1\n",
    "    for n in range(p):\n",
    "        if pw == y: return n\n",
    "        pw = (pw * b) % p\n",
    "    return None\n",
    "\n",
    "def chinese_rem(r: list, p: list):\n",
    "    assert(len(r) == len(p))\n",
    "    L = len(p)\n",
    "    P = reduce((lambda a, res: a * res), p);\n",
    "    M = [P // p[i] for i in range(L)]\n",
    "    Minv = [bruteforce_inv(M[i], p[i]) for i in range(L)]\n",
    "    prods = map(lambda a: a[0] * a[1] * a[2], zip(r, M, Minv))\n",
    "    return reduce(lambda a, res: (a + res) % P, prods)"
   ]
  },
  {
   "cell_type": "code",
   "execution_count": 3,
   "metadata": {},
   "outputs": [],
   "source": [
    "def SPH(b: int, y: int, p: list, pows: list):\n",
    "# Silver-Pollig-Hellman algorithm\n",
    "# b -- base of log\n",
    "# y -- argument\n",
    "# sum(p .^ pows) + 1 = q  --  mod\n",
    "\n",
    "    assert(len(p) == len(pows));\n",
    "    L = len(p);\n",
    "    q = 1 + reduce((lambda a, res: a * res), \n",
    "                   [p[i] ** pows[i] for i in range(L)])\n",
    "    \n",
    "    # compute primitive roots\n",
    "    unity = []\n",
    "    for i in range(L):\n",
    "        mul = discr_pow(b, (q - 1) // p[i], q)\n",
    "        cur = 1\n",
    "        lst = []\n",
    "        for j in range(p[i]):\n",
    "            lst.append(cur)\n",
    "            cur = (cur * mul) % q\n",
    "        unity.append(lst)\n",
    "    \n",
    "    # compute x mod p[i] ^ pow[i]\n",
    "    X = []\n",
    "    for i in range(L):\n",
    "        y1 = y\n",
    "        res = 0\n",
    "        for j in range(pows[i]):\n",
    "            pw  =  discr_pow(y1, (q - 1) // (p[i]**(j + 1)), q)\n",
    "            upd =  unity[i].index(pw) * p[i]**j\n",
    "            y1 = discr_div(y1, b ** upd, q)\n",
    "            res += upd\n",
    "        X.append(res);\n",
    "    \n",
    "    # use chinese remainders theorem\n",
    "    pws = list(map((lambda a: a[0] ** a[1]), zip(p, pows)));\n",
    "    return chinese_rem(X, pws)\n"
   ]
  },
  {
   "cell_type": "code",
   "execution_count": 177,
   "metadata": {},
   "outputs": [
    {
     "name": "stdout",
     "output_type": "stream",
     "text": [
      "log = 107\n",
      "2 ^ log = 153\n"
     ]
    }
   ],
   "source": [
    "log = SPH(2, 153, [2, 3, 5], [2, 2, 1])\n",
    "print(\"log = %d\" % log)\n",
    "print(\"2 ^ log = %d\" % discr_pow(2, log, 2**2 * 3**2 * 5**1 + 1))"
   ]
  },
  {
   "cell_type": "code",
   "execution_count": 178,
   "metadata": {},
   "outputs": [
    {
     "name": "stdout",
     "output_type": "stream",
     "text": [
      "log = 34\n",
      "2 ^ log = 28\n"
     ]
    }
   ],
   "source": [
    "log = SPH(2, 28, [2, 3], [2, 2])\n",
    "print(\"log = %d\" % log)\n",
    "print(\"2 ^ log = %d\" % discr_pow(2, log, 2**2 * 3**2 + 1))"
   ]
  },
  {
   "cell_type": "code",
   "execution_count": 179,
   "metadata": {},
   "outputs": [
    {
     "name": "stdout",
     "output_type": "stream",
     "text": [
      "log = 77\n",
      "5 ^ log = 23\n"
     ]
    }
   ],
   "source": [
    "log = SPH(5, 23, [2, 3], [5, 1])\n",
    "print(\"log = %d\" % log)\n",
    "print(\"5 ^ log = %d\" % discr_pow(5, log, 2**5 * 3**1 + 1))"
   ]
  },
  {
   "cell_type": "code",
   "execution_count": 5,
   "metadata": {},
   "outputs": [],
   "source": [
    "p1 = 2; n1 = 2;\n",
    "p2 = 3; n2 = 2;\n",
    "p3 = 5; n3 = 1;\n",
    "q  = 181;\n",
    "y  = 153;\n",
    "b  = 2;"
   ]
  },
  {
   "cell_type": "code",
   "execution_count": 6,
   "metadata": {},
   "outputs": [
    {
     "name": "stdout",
     "output_type": "stream",
     "text": [
      "0 -> 1\n",
      "1 -> 180\n"
     ]
    }
   ],
   "source": [
    "# p1 = 2\n",
    "R1 = []\n",
    "for j in range(p1):\n",
    "    R1.append((b ** (j * (q - 1) / p1)) % q);\n",
    "    print(\"%d -> %d\" % (j, R1[j]) )"
   ]
  },
  {
   "cell_type": "code",
   "execution_count": 7,
   "metadata": {},
   "outputs": [
    {
     "name": "stdout",
     "output_type": "stream",
     "text": [
      "0 -> 1\n",
      "1 -> 48\n",
      "2 -> 132\n"
     ]
    }
   ],
   "source": [
    "# p2 = 3\n",
    "R2 = []\n",
    "for j in range(p2):\n",
    "    R2.append((b ** (j * (q - 1) / p2)) % q)\n",
    "    print(\"%d -> %d\" % (j, R2[j]) )"
   ]
  },
  {
   "cell_type": "code",
   "execution_count": 8,
   "metadata": {},
   "outputs": [
    {
     "name": "stdout",
     "output_type": "stream",
     "text": [
      "0 -> 1\n",
      "1 -> 59\n",
      "2 -> 42\n",
      "3 -> 125\n",
      "4 -> 135\n"
     ]
    }
   ],
   "source": [
    "# p3 = 5\n",
    "R3 = []\n",
    "for j in range(p3):\n",
    "    R3.append((b ** (j * (q - 1) / p3)) % q)\n",
    "    print(\"%d -> %d\" % (j, R3[j]) )"
   ]
  },
  {
   "cell_type": "code",
   "execution_count": 9,
   "metadata": {},
   "outputs": [
    {
     "name": "stdout",
     "output_type": "stream",
     "text": [
      "180\n",
      "1 * 2^0\n",
      "180\n",
      "1 * 2^1\n",
      "final: 3\n"
     ]
    }
   ],
   "source": [
    "# x mod 2^2\n",
    "X1 = []\n",
    "\n",
    "tmp = discr_pow(y, (q - 1) / p1, q)\n",
    "X1.append(R1.index(tmp))\n",
    "print(tmp)\n",
    "print(\"%d * %d^0\" % (X1[0], p1))\n",
    "\n",
    "y1 = discr_div(y, b ** (X1[0] * p1 ** 0), q);\n",
    "tmp = discr_pow(y1, (q - 1) / (p1**2), q)\n",
    "X1.append(R1.index(tmp))\n",
    "print(tmp)\n",
    "print(\"%d * %d^1\" % (X1[1], p1))\n",
    "\n",
    "X1 = (X1[0] + p1 * X1[1]) % q\n",
    "print(\"final: %d\" % X1)"
   ]
  },
  {
   "cell_type": "code",
   "execution_count": 20,
   "metadata": {},
   "outputs": [
    {
     "name": "stdout",
     "output_type": "stream",
     "text": [
      "132\n",
      "2 * 3^0\n",
      "174\n",
      "2 * 3^1\n",
      "final: 8\n"
     ]
    }
   ],
   "source": [
    "# x mod 3^2\n",
    "X2 = []\n",
    "\n",
    "tmp = discr_pow(y, (q - 1) / p2, q)\n",
    "X2.append(R2.index(tmp))\n",
    "print(tmp)\n",
    "print(\"%d * %d^0\" % (X2[0], p2))\n",
    "\n",
    "y1 = discr_div(y, b ** (X2[0] * p2 ** 0), q);\n",
    "print(y1)\n",
    "tmp = discr_pow(y1, (q - 1) / (p2**2), q)\n",
    "X2.append(R2.index(tmp))\n",
    "\n",
    "print(\"%d * %d^1\" % (X2[1], p2))\n",
    "\n",
    "X2 = (X2[0] + p2 * X2[1]) % q\n",
    "print(\"final: %d\" % X2)"
   ]
  },
  {
   "cell_type": "code",
   "execution_count": 11,
   "metadata": {},
   "outputs": [
    {
     "name": "stdout",
     "output_type": "stream",
     "text": [
      "42\n",
      "2 * 5^0\n",
      "final: 2\n"
     ]
    }
   ],
   "source": [
    "# x mod 5^1\n",
    "X3 = []\n",
    "\n",
    "tmp = discr_pow(y, (q - 1) / p3, q)\n",
    "X3.append(R3.index(tmp))\n",
    "print(tmp)\n",
    "print(\"%d * %d^0\" % (X3[0], p3))\n",
    "\n",
    "X3 = (X3[0]) % q\n",
    "print(\"final: %d\" % X3)"
   ]
  },
  {
   "cell_type": "code",
   "execution_count": 187,
   "metadata": {},
   "outputs": [
    {
     "data": {
      "text/plain": [
       "107"
      ]
     },
     "execution_count": 187,
     "metadata": {},
     "output_type": "execute_result"
    }
   ],
   "source": [
    "# compose\n",
    "chinese_rem([X1, X2, X3], [p1**2, p2**2, p3])"
   ]
  },
  {
   "cell_type": "code",
   "execution_count": 188,
   "metadata": {},
   "outputs": [
    {
     "data": {
      "text/plain": [
       "107"
      ]
     },
     "execution_count": 188,
     "metadata": {},
     "output_type": "execute_result"
    }
   ],
   "source": [
    "# check\n",
    "bruteforce_discr_log(b, y, q)"
   ]
  },
  {
   "cell_type": "code",
   "execution_count": 37,
   "metadata": {},
   "outputs": [
    {
     "data": {
      "text/plain": [
       "104"
      ]
     },
     "execution_count": 37,
     "metadata": {},
     "output_type": "execute_result"
    }
   ],
   "source": [
    "discr_div(17, 8, 163)"
   ]
  },
  {
   "cell_type": "code",
   "execution_count": 40,
   "metadata": {},
   "outputs": [
    {
     "data": {
      "text/plain": [
       "1"
      ]
     },
     "execution_count": 40,
     "metadata": {},
     "output_type": "execute_result"
    }
   ],
   "source": [
    "discr_pow(104, 6, 163)"
   ]
  },
  {
   "cell_type": "code",
   "execution_count": null,
   "metadata": {},
   "outputs": [],
   "source": []
  }
 ],
 "metadata": {
  "kernelspec": {
   "display_name": "Python 3",
   "language": "python",
   "name": "python3"
  },
  "language_info": {
   "codemirror_mode": {
    "name": "ipython",
    "version": 3
   },
   "file_extension": ".py",
   "mimetype": "text/x-python",
   "name": "python",
   "nbconvert_exporter": "python",
   "pygments_lexer": "ipython3",
   "version": "3.8.5"
  }
 },
 "nbformat": 4,
 "nbformat_minor": 4
}
